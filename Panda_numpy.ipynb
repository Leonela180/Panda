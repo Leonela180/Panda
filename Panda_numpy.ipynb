{
  "nbformat": 4,
  "nbformat_minor": 0,
  "metadata": {
    "colab": {
      "provenance": [],
      "authorship_tag": "ABX9TyMLEUblGrPxhCTFxQQnY/cd",
      "include_colab_link": true
    },
    "kernelspec": {
      "name": "python3",
      "display_name": "Python 3"
    },
    "language_info": {
      "name": "python"
    }
  },
  "cells": [
    {
      "cell_type": "markdown",
      "metadata": {
        "id": "view-in-github",
        "colab_type": "text"
      },
      "source": [
        "<a href=\"https://colab.research.google.com/github/Leonela180/Panda/blob/main/Panda_numpy.ipynb\" target=\"_parent\"><img src=\"https://colab.research.google.com/assets/colab-badge.svg\" alt=\"Open In Colab\"/></a>"
      ]
    },
    {
      "cell_type": "markdown",
      "source": [
        "# EJERCICIOS DE RETROALIMENTCION SEMANA 2"
      ],
      "metadata": {
        "id": "SgErznfX0RH_"
      }
    },
    {
      "cell_type": "markdown",
      "source": [
        "EJERCICIO 1:\n",
        "Programa que prengute el usuario por las venta de un rango de año y muestre por pantalla una serie con los datos de las ventas inexadas por los años, antes y despues de aplicarles un descuento del 5%"
      ],
      "metadata": {
        "id": "bGBmYSQs0c4_"
      }
    },
    {
      "cell_type": "code",
      "source": [
        "import pandas as pd"
      ],
      "metadata": {
        "id": "aqR93e1z0P7X"
      },
      "execution_count": null,
      "outputs": []
    },
    {
      "cell_type": "code",
      "source": [
        "inicio = int(input(\"Ingrese el año inicial: \"))\n",
        "final = int(input(\"Ingrese el año final:\"))\n",
        "venta = {}\n",
        "for i in range(inicio, final+1):\n",
        "  venta[i] = float(input(\"Ingrese la venta del año \"+ str(i) +': '))\n",
        "venta = pd.Series(venta)\n",
        "print(\"Ventas:\\n\", venta)\n",
        "print(\"---------------------\")\n",
        "print(\"Ventas con descuento:\\n\", venta*0.05)"
      ],
      "metadata": {
        "colab": {
          "base_uri": "https://localhost:8080/"
        },
        "id": "CuUnG10b1xg3",
        "outputId": "3b4afb03-3b39-4bca-ef83-cd07c2bfc222"
      },
      "execution_count": 26,
      "outputs": [
        {
          "output_type": "stream",
          "name": "stdout",
          "text": [
            "Ingrese el año inicial: 2000\n",
            "Ingrese el año final: 2025\n",
            "Ingrese la venta del año 2016: 10\n",
            "Ingrese la venta del año 2018: 15\n",
            "Ingrese la venta del año 2020: 12\n",
            "Ingrese la venta del año 2022: 12\n",
            "Ingrese la venta del año 2024: 1\n",
            "Ventas:\n",
            " 2016    10.0\n",
            "2018    15.0\n",
            "2020    12.0\n",
            "2022    12.0\n",
            "2024     1.0\n",
            "dtype: float64\n",
            "---------------------\n",
            "Ventas con descuento:\n",
            " 2016    5.0\n",
            "2018    7.5\n",
            "2020    6.0\n",
            "2022    6.0\n",
            "2024    0.5\n",
            "dtype: float64\n"
          ]
        }
      ]
    },
    {
      "cell_type": "code",
      "source": [
        "inicio = int(input(\"Ingrese el año inicial: \"))\n",
        "final = int(input(\"Ingrese el año final: \"))\n",
        "venta = {}\n",
        "\n",
        "for i in range(max(inicio, final - 9), final + 1,2):\n",
        "    venta[i] = float(input(f\"Ingrese la venta del año {i}: \"))\n",
        "\n",
        "venta = pd.Series(venta)\n",
        "print(\"Ventas:\\n\", venta)\n",
        "print(\"---------------------\")\n",
        "print(\"Ventas con descuento:\\n\", venta * 0.05)"
      ],
      "metadata": {
        "colab": {
          "base_uri": "https://localhost:8080/",
          "height": 356
        },
        "id": "_2E32xfH5aK3",
        "outputId": "226726eb-2215-4d9a-c922-da57e0189fac"
      },
      "execution_count": 32,
      "outputs": [
        {
          "output_type": "error",
          "ename": "KeyboardInterrupt",
          "evalue": "Interrupted by user",
          "traceback": [
            "\u001b[0;31m---------------------------------------------------------------------------\u001b[0m",
            "\u001b[0;31mKeyboardInterrupt\u001b[0m                         Traceback (most recent call last)",
            "\u001b[0;32m/tmp/ipython-input-2426124211.py\u001b[0m in \u001b[0;36m<cell line: 0>\u001b[0;34m()\u001b[0m\n\u001b[0;32m----> 1\u001b[0;31m \u001b[0minicio\u001b[0m \u001b[0;34m=\u001b[0m \u001b[0mint\u001b[0m\u001b[0;34m(\u001b[0m\u001b[0minput\u001b[0m\u001b[0;34m(\u001b[0m\u001b[0;34m\"Ingrese el año inicial: \"\u001b[0m\u001b[0;34m)\u001b[0m\u001b[0;34m)\u001b[0m\u001b[0;34m\u001b[0m\u001b[0;34m\u001b[0m\u001b[0m\n\u001b[0m\u001b[1;32m      2\u001b[0m \u001b[0mfinal\u001b[0m \u001b[0;34m=\u001b[0m \u001b[0mint\u001b[0m\u001b[0;34m(\u001b[0m\u001b[0minput\u001b[0m\u001b[0;34m(\u001b[0m\u001b[0;34m\"Ingrese el año final: \"\u001b[0m\u001b[0;34m)\u001b[0m\u001b[0;34m)\u001b[0m\u001b[0;34m\u001b[0m\u001b[0;34m\u001b[0m\u001b[0m\n\u001b[1;32m      3\u001b[0m \u001b[0mventa\u001b[0m \u001b[0;34m=\u001b[0m \u001b[0;34m{\u001b[0m\u001b[0;34m}\u001b[0m\u001b[0;34m\u001b[0m\u001b[0;34m\u001b[0m\u001b[0m\n\u001b[1;32m      4\u001b[0m \u001b[0;34m\u001b[0m\u001b[0m\n\u001b[1;32m      5\u001b[0m \u001b[0;32mfor\u001b[0m \u001b[0mi\u001b[0m \u001b[0;32min\u001b[0m \u001b[0mrange\u001b[0m\u001b[0;34m(\u001b[0m\u001b[0mmax\u001b[0m\u001b[0;34m(\u001b[0m\u001b[0minicio\u001b[0m\u001b[0;34m,\u001b[0m \u001b[0mfinal\u001b[0m \u001b[0;34m-\u001b[0m \u001b[0;36m9\u001b[0m\u001b[0;34m)\u001b[0m\u001b[0;34m,\u001b[0m \u001b[0mfinal\u001b[0m \u001b[0;34m+\u001b[0m \u001b[0;36m1\u001b[0m\u001b[0;34m,\u001b[0m\u001b[0;36m2\u001b[0m\u001b[0;34m)\u001b[0m\u001b[0;34m:\u001b[0m\u001b[0;34m\u001b[0m\u001b[0;34m\u001b[0m\u001b[0m\n",
            "\u001b[0;32m/usr/local/lib/python3.11/dist-packages/ipykernel/kernelbase.py\u001b[0m in \u001b[0;36mraw_input\u001b[0;34m(self, prompt)\u001b[0m\n\u001b[1;32m   1175\u001b[0m                 \u001b[0;34m\"raw_input was called, but this frontend does not support input requests.\"\u001b[0m\u001b[0;34m\u001b[0m\u001b[0;34m\u001b[0m\u001b[0m\n\u001b[1;32m   1176\u001b[0m             )\n\u001b[0;32m-> 1177\u001b[0;31m         return self._input_request(\n\u001b[0m\u001b[1;32m   1178\u001b[0m             \u001b[0mstr\u001b[0m\u001b[0;34m(\u001b[0m\u001b[0mprompt\u001b[0m\u001b[0;34m)\u001b[0m\u001b[0;34m,\u001b[0m\u001b[0;34m\u001b[0m\u001b[0;34m\u001b[0m\u001b[0m\n\u001b[1;32m   1179\u001b[0m             \u001b[0mself\u001b[0m\u001b[0;34m.\u001b[0m\u001b[0m_parent_ident\u001b[0m\u001b[0;34m[\u001b[0m\u001b[0;34m\"shell\"\u001b[0m\u001b[0;34m]\u001b[0m\u001b[0;34m,\u001b[0m\u001b[0;34m\u001b[0m\u001b[0;34m\u001b[0m\u001b[0m\n",
            "\u001b[0;32m/usr/local/lib/python3.11/dist-packages/ipykernel/kernelbase.py\u001b[0m in \u001b[0;36m_input_request\u001b[0;34m(self, prompt, ident, parent, password)\u001b[0m\n\u001b[1;32m   1217\u001b[0m             \u001b[0;32mexcept\u001b[0m \u001b[0mKeyboardInterrupt\u001b[0m\u001b[0;34m:\u001b[0m\u001b[0;34m\u001b[0m\u001b[0;34m\u001b[0m\u001b[0m\n\u001b[1;32m   1218\u001b[0m                 \u001b[0;31m# re-raise KeyboardInterrupt, to truncate traceback\u001b[0m\u001b[0;34m\u001b[0m\u001b[0;34m\u001b[0m\u001b[0m\n\u001b[0;32m-> 1219\u001b[0;31m                 \u001b[0;32mraise\u001b[0m \u001b[0mKeyboardInterrupt\u001b[0m\u001b[0;34m(\u001b[0m\u001b[0;34m\"Interrupted by user\"\u001b[0m\u001b[0;34m)\u001b[0m \u001b[0;32mfrom\u001b[0m \u001b[0;32mNone\u001b[0m\u001b[0;34m\u001b[0m\u001b[0;34m\u001b[0m\u001b[0m\n\u001b[0m\u001b[1;32m   1220\u001b[0m             \u001b[0;32mexcept\u001b[0m \u001b[0mException\u001b[0m\u001b[0;34m:\u001b[0m\u001b[0;34m\u001b[0m\u001b[0;34m\u001b[0m\u001b[0m\n\u001b[1;32m   1221\u001b[0m                 \u001b[0mself\u001b[0m\u001b[0;34m.\u001b[0m\u001b[0mlog\u001b[0m\u001b[0;34m.\u001b[0m\u001b[0mwarning\u001b[0m\u001b[0;34m(\u001b[0m\u001b[0;34m\"Invalid Message:\"\u001b[0m\u001b[0;34m,\u001b[0m \u001b[0mexc_info\u001b[0m\u001b[0;34m=\u001b[0m\u001b[0;32mTrue\u001b[0m\u001b[0;34m)\u001b[0m\u001b[0;34m\u001b[0m\u001b[0;34m\u001b[0m\u001b[0m\n",
            "\u001b[0;31mKeyboardInterrupt\u001b[0m: Interrupted by user"
          ]
        }
      ]
    },
    {
      "cell_type": "code",
      "source": [
        "inicio = int(input(\"Ingrese el año inicial: \"))\n",
        "final = int(input(\"Ingrese el año final: \"))\n",
        "venta = {}\n",
        "\n",
        "for i in range(inicio, final + 1):\n",
        "    if final - 10 >= inicio:\n",
        "        if (final - i) < 10:\n",
        "            venta[i] = float(input(\"Ingrese la venta del año {i}: \"))\n",
        "        else:\n",
        "            continue\n",
        "    else:\n",
        "         venta[i] = float(input(\"Ingrese la venta del año {i}: \"))\n",
        "\n",
        "venta = pd.Series(venta)\n",
        "par = venta[venta.index % 2 == 0]\n",
        "\n",
        "print(\"Ventas:\\n\", venta)\n",
        "print(\"---------------------\")\n",
        "print(\"Ventas pares:\\n\", par)\n",
        "print(\"---------------------\")\n",
        "print(\"Ventas con descuento:\\n\", venta * 0.05)"
      ],
      "metadata": {
        "id": "AlzmSvML7iFQ",
        "colab": {
          "base_uri": "https://localhost:8080/"
        },
        "outputId": "c2d73fb2-6034-4bd5-94f5-6bc11bc175df"
      },
      "execution_count": 22,
      "outputs": [
        {
          "output_type": "stream",
          "name": "stdout",
          "text": [
            "Ingrese el año inicial: 2000\n",
            "Ingrese el año final: 2025\n",
            "Ingrese la venta del año 2016: 100\n",
            "Ingrese la venta del año 2017: 200\n",
            "Ingrese la venta del año 2018: 300\n",
            "Ingrese la venta del año 2019: 400\n",
            "Ingrese la venta del año 2020: 500\n",
            "Ingrese la venta del año 2021: 60\n",
            "Ingrese la venta del año 2022: 12\n",
            "Ingrese la venta del año 2023: 15\n",
            "Ingrese la venta del año 2024: 45\n",
            "Ingrese la venta del año 2025: 51\n",
            "Ventas:\n",
            " 2016    100.0\n",
            "2017    200.0\n",
            "2018    300.0\n",
            "2019    400.0\n",
            "2020    500.0\n",
            "2021     60.0\n",
            "2022     12.0\n",
            "2023     15.0\n",
            "2024     45.0\n",
            "2025     51.0\n",
            "dtype: float64\n",
            "---------------------\n",
            "Ventas pares:\n",
            " 2016    100.0\n",
            "2018    300.0\n",
            "2020    500.0\n",
            "2022     12.0\n",
            "2024     45.0\n",
            "dtype: float64\n",
            "---------------------\n",
            "Ventas con descuento:\n",
            " 2016     50.0\n",
            "2017    100.0\n",
            "2018    150.0\n",
            "2019    200.0\n",
            "2020    250.0\n",
            "2021     30.0\n",
            "2022      6.0\n",
            "2023      7.5\n",
            "2024     22.5\n",
            "2025     25.5\n",
            "dtype: float64\n"
          ]
        }
      ]
    },
    {
      "cell_type": "markdown",
      "source": [
        "EJERCICIO 2\n",
        "Calcula de estadisticas basicas: media, mediana , desviacion, estandar - numpy para el data frame\n"
      ],
      "metadata": {
        "id": "GBkJNnkI5fpf"
      }
    },
    {
      "cell_type": "code",
      "source": [],
      "metadata": {
        "id": "ccTrcrpzEJwo"
      },
      "execution_count": null,
      "outputs": []
    },
    {
      "cell_type": "code",
      "metadata": {
        "colab": {
          "base_uri": "https://localhost:8080/"
        },
        "collapsed": true,
        "id": "77ddb101",
        "outputId": "2aa94122-c275-4fe5-aeb4-73f1f686a729"
      },
      "source": [
        "import pandas as pd\n",
        "import numpy as np\n",
        "#Crear dataframe\n",
        "data = {'Nombre':['Jose','Juan', 'Maria', 'Pedro'], 'Edad':[32, 28, 45, 21], 'Ciudad': ['Huancayo','Arequipa', 'Trujillo', 'Ayacucho']}\n",
        "df = pd.DataFrame(data)\n",
        "\n",
        "#Calcular la media utilizando numpy\n",
        "mean_edad = np.mean(df['Edad'])\n",
        "print(\"Media de edad:\", mean_edad)\n",
        "#Calcular la mediana\n",
        "median_edad = np.median(df['Edad'])\n",
        "print(\"Mediana de edad:\", median_edad)\n",
        "#Calcular desviacion\n",
        "std_edad = np.std(df['Edad'])\n",
        "print(\"Desviacion estandar de edad:\", std_edad)\n",
        "#max y min\n",
        "edad_max = np.max(df['Edad'])\n",
        "edad_min = np.min(df['Edad'])\n",
        "print(\"Edad maxima:\", edad_max)\n",
        "print(\"Edad minima:\", edad_min)\n"
      ],
      "execution_count": 40,
      "outputs": [
        {
          "output_type": "stream",
          "name": "stdout",
          "text": [
            "Media de edad: 31.5\n",
            "Mediana de edad: 30.0\n",
            "Desviacion estandar de edad: 8.73212459828649\n",
            "Edad maxima: 45\n",
            "Edad minima: 21\n"
          ]
        }
      ]
    }
  ]
}